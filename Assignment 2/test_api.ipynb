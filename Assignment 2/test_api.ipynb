{
 "cells": [
  {
   "cell_type": "code",
   "execution_count": 4,
   "metadata": {},
   "outputs": [
    {
     "name": "stdout",
     "output_type": "stream",
     "text": [
      "Chat Response: {'answer': 'Natural Language Processing (NLP) is a branch of computer science and artificial intelligence that focuses on enabling computers to understand, interpret, and generate human language.  It bridges the gap between human communication and computer understanding, allowing computers to process and analyze large amounts of text and speech data.  This involves tasks like translating languages, summarizing text, answering questions, and even generating creative text formats.', 'query': 'Explain NLP?', 'retrieved_chunks': 'natural language processing nlp is a subfield of computer science and especially artificial intelligence it is primarily concerned with providing computers with the ability to process data encoded in '}\n",
      "Chat History: [{'content': 'Explain NLP?', 'id': 1, 'role': 'user', 'timestamp': 'Thu, 30 Jan 2025 15:14:04 GMT'}, {'content': 'Natural Language Processing (NLP) is a branch of computer science and artificial intelligence that focuses on enabling computers to understand, interpret, and generate human language.  It bridges the gap between human communication and computer understanding, allowing computers to process and analyze large amounts of text and speech data.  This involves tasks like translating languages, summarizing text, answering questions, and even generating creative text formats.', 'id': 2, 'role': 'generate_answer', 'timestamp': 'Thu, 30 Jan 2025 15:14:05 GMT'}]\n"
     ]
    }
   ],
   "source": [
    "import requests\n",
    "\n",
    "# Test /chat endpoint\n",
    "url_chat = \"http://127.0.0.1:5000/chat\"\n",
    "data_chat = {\"query\": \"Explain NLP?\"}\n",
    "\n",
    "response_chat = requests.post(url_chat, json=data_chat)\n",
    "print(\"Chat Response:\", response_chat.json())\n",
    "\n",
    "# Test /history endpoint\n",
    "url_history = \"http://127.0.0.1:5000/history\"\n",
    "response_history = requests.get(url_history)\n",
    "print(\"Chat History:\", response_history.json())\n"
   ]
  },
  {
   "cell_type": "code",
   "execution_count": null,
   "metadata": {},
   "outputs": [],
   "source": []
  }
 ],
 "metadata": {
  "kernelspec": {
   "display_name": "sen",
   "language": "python",
   "name": "python3"
  },
  "language_info": {
   "codemirror_mode": {
    "name": "ipython",
    "version": 3
   },
   "file_extension": ".py",
   "mimetype": "text/x-python",
   "name": "python",
   "nbconvert_exporter": "python",
   "pygments_lexer": "ipython3",
   "version": "3.12.0"
  }
 },
 "nbformat": 4,
 "nbformat_minor": 2
}
